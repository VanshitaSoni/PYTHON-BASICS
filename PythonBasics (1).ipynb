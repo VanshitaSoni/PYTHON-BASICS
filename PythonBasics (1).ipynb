{
  "nbformat": 4,
  "nbformat_minor": 0,
  "metadata": {
    "colab": {
      "provenance": []
    },
    "kernelspec": {
      "name": "python3",
      "display_name": "Python 3"
    },
    "language_info": {
      "name": "python"
    }
  },
  "cells": [
    {
      "cell_type": "code",
      "execution_count": null,
      "metadata": {
        "id": "X20YhmWYy0wP"
      },
      "outputs": [],
      "source": []
    },
    {
      "cell_type": "markdown",
      "source": [
        "#1. What is Python, and why is it popular?\n",
        " - Python is a high level programming language which is commonly used for various purposes like web developement,competitive programming, creating softwares etc.\n",
        " It is popular because it is very easy to learn and use. it has various libraries and it is an open source programming language which makes it accessible to everyone so easily. It is also very much in demand in fields like machine learning and data science.\n",
        "\n",
        "#2. What is an interpreter in Python?\n",
        " - Interpreters convert information from one spoken language into another. similarly an interpreter in python is a program that reads python code and execute it line by line.This line by line execution means that we can see the result of the code line by line in real time.\n",
        "\n",
        "#3. What are pre-defined keywords in Python?\n",
        " - Pre defined keywords in python are the words that are already defined and has a particular or specific meaning and work. Those pre defined keywords cannot be used as variables because they are assigned to do specific work in the python code or language. some examples of keywords are \"print\",\"if\",\"else\",\"true\",\"false\" etc.\n",
        "\n",
        "#4. Can keywords be used as variable names?\n",
        " - No, keywords cannot be used as variable names in python. keywords already have certain meaning and purpose which helps interpreter or compiler to understand and execute the code. And therefore if keywords will be used as variables then there will be confusion created and the code will show error or wrong results.\n",
        "\n",
        "#5. What is mutability in Python?\n",
        " - Mutability in python refers to the ability of any object to get modified once or after it is created.For example: lists are mutable because we can change the order of items in a list or reassign an item in a list.\n",
        "\n",
        "#6. Why are lists mutable, but tuples are immutable?\n",
        "- Lists and tuples are same but the only difference is that tuples use parenthesis and lists use square brackets. We can easily change the content of a list but cannot change the content of tuples and therefore tuples are immutable.Also tuples are immutable in Python primarily to ensure data integrity and provide a memory-efficient data structure.\n",
        "\n",
        "#7. What is the difference between “==” and “is” operators in Python?\n",
        " - The \"==\" operator refers to a comparison that whether the two are equal or not. for example 3==3, here the result we will get is \"True\" as the comparison is true as we know 3 is equals to 3. Whereas \"is\" operator in Python checks if two variables refer to the same object in memory or not. The test returns True if the two objects are the same object. The test returns False if they are not the same object.\n",
        "\n",
        "#8.What are logical operators in Python?\n",
        " - A logical operation refers to a decision-making process where the outcome is either TRUE or FALSE based on the conditions provided. It involves using LOGICAL OPERATORS such as AND, OR, and NOT to determine the truth value of expressions.  \n",
        "\n",
        " Here the \"AND\" operators returns \"TRUE\" only when both the statements are true otherwise it returns \"FALSE\"\n",
        "\n",
        " The \"OR\" operator returns \"TRUE\" when one of the statement is true and it returns \"FALSE\" when both the statements are false.\n",
        "\n",
        " The \"NOT\" operator returns the opposite of what we provide like if we will give it True then it will return us False and vice-versa.\n",
        "\n",
        "#9. What is type casting in Python?\n",
        " - It refers to the changing of a variables' data type in python. This allows us to convert a value of a type for example int,float or string to another data type of our need. For example:  we want to change the data type of a variable from an integer 10 to a float 10.0 ,this is a case where we'd use type casting.  \n",
        "\n",
        "#10. What is the difference between implicit and explicit type casting?\n",
        " - The explicit type casting is done manually by the programmer, while implicit casting is handled automatically by the compiler in python. Explicit type conversion, also known as type casting, is when the programmer intentionally changes the data type of a value.\n",
        "\n",
        "#11. What is the purpose of conditional statements in Python ?\n",
        " - Conditional statements in Python are used to execute certain blocks of code based on specific conditions. These statements help control the flow of a program, making it behave differently in different situation making them much more flexible and powerful.\n",
        "\n",
        "#12. How does the elif statement work ?\n",
        " -'Elif' stands for 'else if' and is used in Python programming to test multiple conditions.It is used in conjunction with if and optionally else to create a chain of conditional checks. If the initial if condition is false, the elif condition is evaluated. If the elif condition is true, its corresponding block of code is executed. There can be multiple elif statements to check for various conditions. If none of the if or elif conditions are true, and an else block is present, the else block is executed.\n",
        "\n",
        "#13.What is the difference between for and while loops ?\n",
        " - For loop is used to iterate over a sequence of items. While loop is used to repeatedly execute a block of statements while a condition is true.For loop is used when the number of iterations is already known.\tWhile loop is used when the number of iterations is already Unknown.The for loop is faster than the while loop.\tWhile loop is relatively slower as compared to for loop.\n",
        "\n",
        "#14. Describe a scenario where a while loop is more suitable than a for loop.\n",
        " -for loops are best used when you know the number of iterations ahead of time, whereas a while loop is best used when you don't know the number of iterations in advance. while loops are good when you want to stop on a condition, for is good when you need to iterate over a data structure or up to a count.\n",
        " A 'while' loop is ideal for situations where the number of iterations is not predetermined and depends on some dynamic condition.\n",
        "\n",
        "\n",
        "\n",
        "# PRACTICAL QUESTIONS\n",
        "\n"
      ],
      "metadata": {
        "id": "TOIUGmLPy6Gm"
      }
    },
    {
      "cell_type": "code",
      "source": [
        "# 1. Write a Python program to print \"Hello, World!\""
      ],
      "metadata": {
        "id": "Gdum_yArADnB"
      },
      "execution_count": null,
      "outputs": []
    },
    {
      "cell_type": "code",
      "source": [
        "print(\"Hello, World!\")\n"
      ],
      "metadata": {
        "colab": {
          "base_uri": "https://localhost:8080/"
        },
        "id": "w4GLKXb7_N74",
        "outputId": "136d6983-8e22-4c4d-ece3-d8bd87d47e3d"
      },
      "execution_count": 1,
      "outputs": [
        {
          "output_type": "stream",
          "name": "stdout",
          "text": [
            "Hello, World!\n"
          ]
        }
      ]
    },
    {
      "cell_type": "markdown",
      "source": [],
      "metadata": {
        "id": "24TEFkjb-6GO"
      }
    },
    {
      "cell_type": "code",
      "source": [
        "#2. Write a Python program that displays your name and age.\n",
        "name = \"Vanshita Soni\"\n",
        "age = 22\n",
        "print(\"My name is\", name)\n",
        "print(\"I am\", age, \"years old.\")"
      ],
      "metadata": {
        "colab": {
          "base_uri": "https://localhost:8080/"
        },
        "id": "HMoaGMVkALn6",
        "outputId": "c6c0dc58-6c34-4000-f8ad-17d4070cfa35"
      },
      "execution_count": 2,
      "outputs": [
        {
          "output_type": "stream",
          "name": "stdout",
          "text": [
            "My name is Vanshita Soni\n",
            "I am 22 years old.\n"
          ]
        }
      ]
    },
    {
      "cell_type": "code",
      "source": [
        "#3. Write code to print all the pre-defined keywords in Python using the keyword library.\n",
        "import keyword\n",
        "\n",
        "print(\"Python keywords:\")\n",
        "print(keyword.kwlist)"
      ],
      "metadata": {
        "colab": {
          "base_uri": "https://localhost:8080/"
        },
        "id": "t3sncjgpAcVA",
        "outputId": "e9240cbc-e9d0-4399-e27e-f001f464b893"
      },
      "execution_count": 3,
      "outputs": [
        {
          "output_type": "stream",
          "name": "stdout",
          "text": [
            "Python keywords:\n",
            "['False', 'None', 'True', 'and', 'as', 'assert', 'async', 'await', 'break', 'class', 'continue', 'def', 'del', 'elif', 'else', 'except', 'finally', 'for', 'from', 'global', 'if', 'import', 'in', 'is', 'lambda', 'nonlocal', 'not', 'or', 'pass', 'raise', 'return', 'try', 'while', 'with', 'yield']\n"
          ]
        }
      ]
    },
    {
      "cell_type": "code",
      "source": [
        "#4. Write a program that checks if a given word is a Python keyword.\n",
        "import keyword\n",
        "\n",
        "s = 'for'\n",
        "\n",
        "if keyword.iskeyword(s):\n",
        "    print(f\"'{s}' is a Python keyword.\")\n",
        "else:\n",
        "    print(f\"'{s}' is not a Python keyword.\")"
      ],
      "metadata": {
        "colab": {
          "base_uri": "https://localhost:8080/"
        },
        "id": "zRLQwzoaAuNZ",
        "outputId": "944df9d2-cb70-4af6-db1e-796a961be8c2"
      },
      "execution_count": 5,
      "outputs": [
        {
          "output_type": "stream",
          "name": "stdout",
          "text": [
            "'for' is a Python keyword.\n"
          ]
        }
      ]
    },
    {
      "cell_type": "code",
      "source": [
        "#7.  Write a program that performs basic arithmetic operations on two user-input numbers.\n",
        "a=10\n",
        "b=5\n",
        "print(a+b , a*b, a/b, a-b)"
      ],
      "metadata": {
        "colab": {
          "base_uri": "https://localhost:8080/"
        },
        "id": "S8EJJt2cBTBT",
        "outputId": "bfd40e9f-0b0f-4dbb-86ed-1e8d0a5d8c13"
      },
      "execution_count": 9,
      "outputs": [
        {
          "output_type": "stream",
          "name": "stdout",
          "text": [
            "15 50 2.0 5\n"
          ]
        }
      ]
    },
    {
      "cell_type": "code",
      "source": [
        "#12. Write a for loop to print numbers from 1 to 10.\n",
        "for i in range(1, 11):\n",
        "    print(i)"
      ],
      "metadata": {
        "colab": {
          "base_uri": "https://localhost:8080/"
        },
        "id": "97mYmShGDb5N",
        "outputId": "43d0945c-5b86-4227-92b1-1f20252ca579"
      },
      "execution_count": 10,
      "outputs": [
        {
          "output_type": "stream",
          "name": "stdout",
          "text": [
            "1\n",
            "2\n",
            "3\n",
            "4\n",
            "5\n",
            "6\n",
            "7\n",
            "8\n",
            "9\n",
            "10\n"
          ]
        }
      ]
    }
  ]
}